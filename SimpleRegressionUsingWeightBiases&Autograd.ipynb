{
 "cells": [
  {
   "cell_type": "code",
   "execution_count": 194,
   "id": "ac790adf-5f1b-4a27-b50e-0b3852ea99d0",
   "metadata": {},
   "outputs": [],
   "source": [
    "import numpy as np\n",
    "import matplotlib.pyplot as plt\n"
   ]
  },
  {
   "cell_type": "code",
   "execution_count": 195,
   "id": "8fd06016-cb55-427c-b92a-a75e0ad85e27",
   "metadata": {},
   "outputs": [],
   "source": [
    "x_train = np.array([[4.7], [2.4], [7.5], [2.1], [4.3],\n",
    "                   [7.8], [8.9], [5.2], [4.59], [2.1],\n",
    "                   [8], [5], [7.5], [5], [4],\n",
    "                   [8], [5.2], [4.9] ,[3] ,[4.7],\n",
    "                   [4], [4.8], [3.5], [2.1], [4.1]],\n",
    "                   dtype = np.float32)\n",
    "y_train = np.array([[2.6], [1.6], [3.09], [2.4], [2.4],\n",
    "                   [3.3], [2.6], [1.96], [3.13], [1.76],\n",
    "                   [3.2], [2.1], [1.6], [2.5], [2.2],\n",
    "                   [2.75], [2.4], [1.8] ,[1] ,[2],\n",
    "                   [1.6], [2.4], [2.6], [1.5], [3.1]],\n",
    "                   dtype = np.float32)"
   ]
  },
  {
   "cell_type": "code",
   "execution_count": 196,
   "id": "c7f1e80a-9110-4748-8807-32a02d4339b6",
   "metadata": {},
   "outputs": [
    {
     "data": {
      "image/png": "[encoded data removed]",
      "text/plain": [
       "<Figure size 600x600 with 1 Axes>"
      ]
     },
     "metadata": {},
     "output_type": "display_data"
    }
   ],
   "source": [
    "plt.figure(figsize=(6,6))\n",
    "plt.scatter(x_train, y_train, c=\"green\", s=100, label = \"Original Data\")\n",
    "plt.show()"
   ]
  },
  {
   "cell_type": "code",
   "execution_count": 197,
   "id": "dde0237a-4a78-452f-80b9-93574cad5383",
   "metadata": {},
   "outputs": [],
   "source": [
    "import torch"
   ]
  },
  {
   "cell_type": "code",
   "execution_count": 198,
   "id": "f1a13a36-c0ec-4931-8713-b177d23b5fac",
   "metadata": {},
   "outputs": [
    {
     "name": "stdout",
     "output_type": "stream",
     "text": [
      "requires_grad for X_train :  False\n",
      "requires_grad for Y_train :  False\n"
     ]
    }
   ],
   "source": [
    "X_train = torch.from_numpy(x_train)\n",
    "Y_train = torch.from_numpy(y_train)\n",
    "print(\"requires_grad for X_train : \", X_train.requires_grad)\n",
    "print(\"requires_grad for Y_train : \", Y_train.requires_grad)"
   ]
  },
  {
   "cell_type": "code",
   "execution_count": 199,
   "id": "b52bed80-ca17-4162-96b8-aa4035953989",
   "metadata": {},
   "outputs": [],
   "source": [
    "input_size = 1\n",
    "hidden_layer_size = 1\n",
    "output_size = 1\n",
    "learning_rate = 0.001"
   ]
  },
  {
   "cell_type": "code",
   "execution_count": 200,
   "id": "3648bdaf-3872-426e-8872-4f5279bd0ed5",
   "metadata": {},
   "outputs": [
    {
     "data": {
      "text/plain": [
       "torch.Size([1, 1])"
      ]
     },
     "execution_count": 200,
     "metadata": {},
     "output_type": "execute_result"
    }
   ],
   "source": [
    "w1 = torch.rand(input_size,\n",
    "                hidden_layer_size,\n",
    "                requires_grad=True)\n",
    "w1.shape"
   ]
  },
  {
   "cell_type": "code",
   "execution_count": 201,
   "id": "d3daf6b1-c15e-4411-932b-f96dea8a7768",
   "metadata": {},
   "outputs": [
    {
     "data": {
      "text/plain": [
       "torch.Size([1, 1])"
      ]
     },
     "execution_count": 201,
     "metadata": {},
     "output_type": "execute_result"
    }
   ],
   "source": [
    "b1 = torch.rand(hidden_layer_size,\n",
    "                output_size,\n",
    "                requires_grad=True)\n",
    "b1.shape"
   ]
  },
  {
   "cell_type": "code",
   "execution_count": 202,
   "id": "4a737968-407d-40db-9780-43974b17e2e9",
   "metadata": {},
   "outputs": [
    {
     "data": {
      "text/plain": [
       "tensor([[0.7273]], requires_grad=True)"
      ]
     },
     "execution_count": 202,
     "metadata": {},
     "output_type": "execute_result"
    }
   ],
   "source": [
    "w1\n"
   ]
  },
  {
   "cell_type": "code",
   "execution_count": 203,
   "id": "0fe33bf3-8466-4941-b176-f9c5e87c5af4",
   "metadata": {},
   "outputs": [
    {
     "data": {
      "text/plain": [
       "tensor([[0.1818]], requires_grad=True)"
      ]
     },
     "execution_count": 203,
     "metadata": {},
     "output_type": "execute_result"
    }
   ],
   "source": [
    "b1"
   ]
  },
  {
   "cell_type": "code",
   "execution_count": 204,
   "id": "7229ce9a-2983-4401-ae6a-acdd89709260",
   "metadata": {},
   "outputs": [
    {
     "name": "stdout",
     "output_type": "stream",
     "text": [
      "100 8.15140438079834\n",
      "200 6.872714042663574\n",
      "300 6.530770778656006\n",
      "400 6.4393310546875\n",
      "500 6.414876937866211\n",
      "600 6.4083380699157715\n",
      "700 6.406589508056641\n",
      "800 6.406121253967285\n",
      "900 6.405996799468994\n",
      "1000 6.40596342086792\n",
      "1100 6.405954360961914\n",
      "1200 6.405951499938965\n",
      "1300 6.405952453613281\n",
      "1400 6.405951023101807\n",
      "1500 6.405951499938965\n",
      "1600 6.405951976776123\n",
      "1700 6.405951023101807\n",
      "1800 6.405951499938965\n",
      "1900 6.405950546264648\n",
      "2000 6.405950546264648\n",
      "2100 6.405950546264648\n",
      "2200 6.405950546264648\n",
      "2300 6.405950546264648\n",
      "2400 6.405950546264648\n",
      "2500 6.405950546264648\n",
      "2600 6.405950546264648\n",
      "2700 6.405950546264648\n",
      "2800 6.405950546264648\n",
      "2900 6.405950546264648\n",
      "3000 6.405950546264648\n",
      "3100 6.405950546264648\n",
      "3200 6.405950546264648\n",
      "3300 6.405950546264648\n",
      "3400 6.405950546264648\n",
      "3500 6.405950546264648\n",
      "3600 6.405950546264648\n",
      "3700 6.405950546264648\n",
      "3800 6.405950546264648\n",
      "3900 6.405950546264648\n",
      "4000 6.405950546264648\n"
     ]
    }
   ],
   "source": [
    "for iter in range(1,4001):\n",
    "    y_pred = X_train.mm(w1).clamp(min=0).add(b1)\n",
    "    \n",
    "    loss = (y_pred - Y_train).pow(2).sum()\n",
    "    \n",
    "    if iter % 100 == 0 :\n",
    "        print(iter, loss.item())\n",
    "        \n",
    "    loss.backward()\n",
    "    \n",
    "    with torch.no_grad():\n",
    "        w1 -= learning_rate * w1.grad\n",
    "        b1 -= learning_rate * b1.grad\n",
    "        w1.grad.zero_()\n",
    "        b1.grad.zero_()"
   ]
  },
  {
   "cell_type": "code",
   "execution_count": 205,
   "id": "d871bf77-4150-440f-b1bc-24167bbbd962",
   "metadata": {},
   "outputs": [
    {
     "name": "stdout",
     "output_type": "stream",
     "text": [
      "W1 :  tensor([[0.1620]], requires_grad=True) \n",
      "b1 :  tensor([[1.5039]], requires_grad=True)\n"
     ]
    }
   ],
   "source": [
    "print(\"W1 : \", w1, \"\\nb1 : \", b1)"
   ]
  },
  {
   "cell_type": "code",
   "execution_count": 206,
   "id": "ffeea8c6-bf0b-4a2b-87f2-ebb0746b3abf",
   "metadata": {},
   "outputs": [
    {
     "data": {
      "text/plain": [
       "tensor([[4.7000],\n",
       "        [2.4000],\n",
       "        [7.5000],\n",
       "        [2.1000],\n",
       "        [4.3000],\n",
       "        [7.8000],\n",
       "        [8.9000],\n",
       "        [5.2000],\n",
       "        [4.5900],\n",
       "        [2.1000],\n",
       "        [8.0000],\n",
       "        [5.0000],\n",
       "        [7.5000],\n",
       "        [5.0000],\n",
       "        [4.0000],\n",
       "        [8.0000],\n",
       "        [5.2000],\n",
       "        [4.9000],\n",
       "        [3.0000],\n",
       "        [4.7000],\n",
       "        [4.0000],\n",
       "        [4.8000],\n",
       "        [3.5000],\n",
       "        [2.1000],\n",
       "        [4.1000]])"
      ]
     },
     "execution_count": 206,
     "metadata": {},
     "output_type": "execute_result"
    }
   ],
   "source": [
    "x_train_tensor = torch.from_numpy(x_train)\n",
    "x_train_tensor"
   ]
  },
  {
   "cell_type": "code",
   "execution_count": 207,
   "id": "8ec8e99a-3e91-42c2-98d4-6e0817a400ce",
   "metadata": {},
   "outputs": [
    {
     "data": {
      "text/plain": [
       "tensor([[2.2654],\n",
       "        [1.8927],\n",
       "        [2.7191],\n",
       "        [1.8441],\n",
       "        [2.2006],\n",
       "        [2.7677],\n",
       "        [2.9460],\n",
       "        [2.3464],\n",
       "        [2.2476],\n",
       "        [1.8441],\n",
       "        [2.8001],\n",
       "        [2.3140],\n",
       "        [2.7191],\n",
       "        [2.3140],\n",
       "        [2.1520],\n",
       "        [2.8001],\n",
       "        [2.3464],\n",
       "        [2.2978],\n",
       "        [1.9900],\n",
       "        [2.2654],\n",
       "        [2.1520],\n",
       "        [2.2816],\n",
       "        [2.0710],\n",
       "        [1.8441],\n",
       "        [2.1682]], grad_fn=<AddBackward0>)"
      ]
     },
     "execution_count": 207,
     "metadata": {},
     "output_type": "execute_result"
    }
   ],
   "source": [
    "predicted_in_tensor = x_train_tensor.mm(w1).clamp(0).add(b1)\n",
    "predicted_in_tensor"
   ]
  },
  {
   "cell_type": "code",
   "execution_count": 208,
   "id": "79b6bdad-01ad-4dae-acc5-03acfc3fa683",
   "metadata": {},
   "outputs": [
    {
     "data": {
      "text/plain": [
       "array([[2.2654233],\n",
       "       [1.8927413],\n",
       "       [2.719123 ],\n",
       "       [1.8441306],\n",
       "       [2.2006092],\n",
       "       [2.7677338],\n",
       "       [2.945973 ],\n",
       "       [2.346441 ],\n",
       "       [2.2475994],\n",
       "       [1.8441306],\n",
       "       [2.8001409],\n",
       "       [2.314034 ],\n",
       "       [2.719123 ],\n",
       "       [2.314034 ],\n",
       "       [2.1519983],\n",
       "       [2.8001409],\n",
       "       [2.346441 ],\n",
       "       [2.2978303],\n",
       "       [1.9899627],\n",
       "       [2.2654233],\n",
       "       [2.1519983],\n",
       "       [2.281627 ],\n",
       "       [2.0709805],\n",
       "       [1.8441306],\n",
       "       [2.168202 ]], dtype=float32)"
      ]
     },
     "execution_count": 208,
     "metadata": {},
     "output_type": "execute_result"
    }
   ],
   "source": [
    "predicted = predicted_in_tensor.detach().numpy()\n",
    "predicted"
   ]
  },
  {
   "cell_type": "code",
   "execution_count": 209,
   "id": "51d3a35d-6163-4e70-9916-05b5079692a8",
   "metadata": {},
   "outputs": [
    {
     "data": {
      "text/plain": [
       "[<matplotlib.lines.Line2D at 0x7fe2d22e4850>]"
      ]
     },
     "execution_count": 209,
     "metadata": {},
     "output_type": "execute_result"
    },
    {
     "data": {
      "image/png": "[encoded data removed]",
      "text/plain": [
       "<Figure size 600x600 with 1 Axes>"
      ]
     },
     "metadata": {},
     "output_type": "display_data"
    }
   ],
   "source": [
    "plt.figure(figsize=(6,6))\n",
    "plt.scatter(x_train, y_train, c=\"green\", s=150, label=\"Original Data\")\n",
    "plt.plot(x_train, predicted, label=\"Fitted Line\") "
   ]
  },
  {
   "cell_type": "code",
   "execution_count": 217,
   "id": "97bb9870-c2ac-4ecb-8266-8e1ef466abc0",
   "metadata": {},
   "outputs": [],
   "source": [
    "import sklearn\n",
    "from sklearn.linear_model import LinearRegression\n",
    "reg = LinearRegression().fit(x_train, y_train)"
   ]
  },
  {
   "cell_type": "code",
   "execution_count": 218,
   "id": "3c8dad4a-8011-4dbc-89a4-7a1814138625",
   "metadata": {},
   "outputs": [
    {
     "name": "stdout",
     "output_type": "stream",
     "text": [
      "w1 with sklearn is:  [[0.16203417]]\n"
     ]
    }
   ],
   "source": [
    "print(\"w1 with sklearn is: \", reg.coef_)"
   ]
  },
  {
   "cell_type": "code",
   "execution_count": 219,
   "id": "c895f97f-a366-465a-b9f9-1a2b82dfc7c3",
   "metadata": {},
   "outputs": [
    {
     "name": "stdout",
     "output_type": "stream",
     "text": [
      "b1 with sklearn is:  [1.5038643]\n"
     ]
    }
   ],
   "source": [
    "print(\"b1 with sklearn is: \", reg.intercept_)"
   ]
  },
  {
   "cell_type": "code",
   "execution_count": 220,
   "id": "2d89875f-a464-4109-b1e0-6568c71bafb5",
   "metadata": {},
   "outputs": [
    {
     "data": {
      "text/plain": [
       "array([[2.2654247],\n",
       "       [1.8927463],\n",
       "       [2.7191205],\n",
       "       [1.844136 ],\n",
       "       [2.200611 ],\n",
       "       [2.7677307],\n",
       "       [2.9459682],\n",
       "       [2.346442 ],\n",
       "       [2.247601 ],\n",
       "       [1.844136 ],\n",
       "       [2.8001375],\n",
       "       [2.3140352],\n",
       "       [2.7191205],\n",
       "       [2.3140352],\n",
       "       [2.152001 ],\n",
       "       [2.8001375],\n",
       "       [2.346442 ],\n",
       "       [2.2978318],\n",
       "       [1.9899669],\n",
       "       [2.2654247],\n",
       "       [2.152001 ],\n",
       "       [2.2816284],\n",
       "       [2.070984 ],\n",
       "       [1.844136 ],\n",
       "       [2.1682043]], dtype=float32)"
      ]
     },
     "execution_count": 220,
     "metadata": {},
     "output_type": "execute_result"
    }
   ],
   "source": [
    "predicted = reg.predict(x_train)\n",
    "predicted"
   ]
  },
  {
   "cell_type": "code",
   "execution_count": 221,
   "id": "17d9e9b5-0fe0-4305-aab2-62820652369f",
   "metadata": {},
   "outputs": [
    {
     "data": {
      "text/plain": [
       "[<matplotlib.lines.Line2D at 0x7fe2a68f0ee0>]"
      ]
     },
     "execution_count": 221,
     "metadata": {},
     "output_type": "execute_result"
    },
    {
     "data": {
      "image/png": "[encoded data removed]",
      "text/plain": [
       "<Figure size 600x600 with 1 Axes>"
      ]
     },
     "metadata": {},
     "output_type": "display_data"
    }
   ],
   "source": [
    "plt.figure(figsize=(6,6))\n",
    "plt.scatter(x_train, y_train, c=\"green\", s=150, label=\"Original Data\")\n",
    "plt.plot(x_train, predicted, label=\"Fitted Line\") "
   ]
  },
  {
   "cell_type": "code",
   "execution_count": null,
   "id": "7903384d-5596-47c1-af77-fb9dea8e1853",
   "metadata": {},
   "outputs": [],
   "source": []
  }
 ],
 "metadata": {
  "kernelspec": {
   "display_name": "Python 3 (ipykernel)",
   "language": "python",
   "name": "python3"
  },
  "language_info": {
   "codemirror_mode": {
    "name": "ipython",
    "version": 3
   },
   "file_extension": ".py",
   "mimetype": "text/x-python",
   "name": "python",
   "nbconvert_exporter": "python",
   "pygments_lexer": "ipython3",
   "version": "3.10.0"
  }
 },
 "nbformat": 4,
 "nbformat_minor": 5
}
